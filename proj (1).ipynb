{
  "nbformat": 4,
  "nbformat_minor": 0,
  "metadata": {
    "colab": {
      "name": "proj.ipynb",
      "provenance": [],
      "collapsed_sections": [
        "IMaIT6CPmto6",
        "gYcoWK_yeAPa",
        "sic4PTlKeHC5"
      ]
    },
    "kernelspec": {
      "name": "python3",
      "display_name": "Python 3"
    },
    "accelerator": "GPU"
  },
  "cells": [
    {
      "cell_type": "markdown",
      "metadata": {
        "id": "VwMcobYEmyC6",
        "colab_type": "text"
      },
      "source": [
        "### Описание задачи и входных данных"
      ]
    },
    {
      "cell_type": "markdown",
      "metadata": {
        "id": "CzCrwIUuc8Ei",
        "colab_type": "text"
      },
      "source": [
        "Описание задачи: в данном задании необходимо оценить, насколько смешными становятся заголовки новостей, в которых были сделаны небольшие правки. Каждый исправленый заголовок оценивается пятью судьями, каждый из которых выставляет оценку по следующей шкале:\n",
        "\n",
        "0 = Не смешно\n",
        "\n",
        "1 = Немного смешно\n",
        "\n",
        "2 = Довольно смешно\n",
        "\n",
        "3 = Очень смешно\n",
        "\n",
        "Итоговая оценка измененного заголовка = среднее арифметическое оценок 5 судей"
      ]
    },
    {
      "cell_type": "markdown",
      "metadata": {
        "id": "3va921EHdwDL",
        "colab_type": "text"
      },
      "source": [
        "\n",
        "Соревнование имеет 2 подзадачи\n",
        "\n",
        "Задача 1: Даны оригинальный и измененный заголовки, необходимо предсказать итоговую оценку (то есть среднее арифметическое оценок судей). Точность оценивается с помощью RMSE, также дополнительно оценивается RMSE N% самых смешных и самых несмешных замен (N = {10, 20, 30, 40}).\n",
        "\n",
        "Задача 2: Даны две возможных замены заголовка, необходимо выбрать наиболее смешной из них. Система оценивается исходя из точности предсказания наиболее смешного заголовка (пары с одинаковыми оценками будут игнорироваться в оценке точности). Также дополнительно вычисляется дополнительная метрика \"вознаграждение\" (reward), где для правильного ответа вычисляется разница между оценками заголовков со знаком \"+\", а для неправильного - со знаком \"-\"\n",
        "\n",
        "\n"
      ]
    },
    {
      "cell_type": "markdown",
      "metadata": {
        "id": "1vGVz50wdwJx",
        "colab_type": "text"
      },
      "source": [
        "Входные данные:\n",
        "\n",
        "Входные данные состоят примерно из 5000 оригинальных заголовков, для каждого заголовка имеется 3 возможных замены (то есть всего около 15000 заголовков). Данные разделены на обучающую, контрольную и тестовую выборки в отношении 64/16/20.\n",
        "\n",
        "Для задачи 1 данные имеют следующие поля:\n",
        "\n",
        "\n",
        "1.   id - уникальный номер заголовка с заменой\n",
        "2.   original - оригинальный заголовок, в котором заменяемое слово заключено в тег </>\n",
        "3.   edit - новое слово\n",
        "4.   grades - оценки судей, записанные в 1 строчку, например 233332\n",
        "5.   meanGrade - средняя оценка судей\n",
        "\n",
        "\n",
        "Для задачи 2 данные имеют следующие поля:\n",
        "\n",
        "\n",
        "1.   id - уникальный номер заголовка 1 - уникальный номер заголовка 2 \n",
        "2.   label - может принимать несколько значений\n",
        "\n",
        "0 - заголовки одинаково смешные\n",
        "\n",
        "1 - замена 1 смешнее\n",
        "\n",
        "2 - замена 2 смешнее\n",
        "\n",
        "В этой работе рассматривается только 1 задание\n",
        "\n"
      ]
    },
    {
      "cell_type": "markdown",
      "metadata": {
        "id": "6W1qWUw-dwQU",
        "colab_type": "text"
      },
      "source": [
        ""
      ]
    },
    {
      "cell_type": "code",
      "metadata": {
        "id": "TlO1C5NFdujZ",
        "colab_type": "code",
        "outputId": "6e78e48a-dc72-4eed-f185-1e989910c246",
        "colab": {
          "resources": {
            "http://localhost:8080/nbextensions/google.colab/files.js": {
              "data": "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",
              "ok": true,
              "headers": [
                [
                  "content-type",
                  "application/javascript"
                ]
              ],
              "status": 200,
              "status_text": ""
            }
          },
          "base_uri": "https://localhost:8080/",
          "height": 108
        }
      },
      "source": [
        "from google.colab import files\n",
        "uploaded = files.upload()"
      ],
      "execution_count": 0,
      "outputs": [
        {
          "output_type": "display_data",
          "data": {
            "text/html": [
              "\n",
              "     <input type=\"file\" id=\"files-70c4ca61-cdcd-4362-a268-6c0f1eb76419\" name=\"files[]\" multiple disabled />\n",
              "     <output id=\"result-70c4ca61-cdcd-4362-a268-6c0f1eb76419\">\n",
              "      Upload widget is only available when the cell has been executed in the\n",
              "      current browser session. Please rerun this cell to enable.\n",
              "      </output>\n",
              "      <script src=\"/nbextensions/google.colab/files.js\"></script> "
            ],
            "text/plain": [
              "<IPython.core.display.HTML object>"
            ]
          },
          "metadata": {
            "tags": []
          }
        },
        {
          "output_type": "stream",
          "text": [
            "Saving dev.csv to dev (1).csv\n",
            "Saving train.csv to train (1).csv\n"
          ],
          "name": "stdout"
        }
      ]
    },
    {
      "cell_type": "code",
      "metadata": {
        "id": "5QYHhhToiUXs",
        "colab_type": "code",
        "colab": {}
      },
      "source": [
        "import pandas as pd"
      ],
      "execution_count": 0,
      "outputs": []
    },
    {
      "cell_type": "code",
      "metadata": {
        "id": "_h488lF8itc6",
        "colab_type": "code",
        "colab": {}
      },
      "source": [
        "task1_train = pd.read_csv('train.csv')\n",
        "task1_dev = pd.read_csv('dev.csv')"
      ],
      "execution_count": 0,
      "outputs": []
    },
    {
      "cell_type": "code",
      "metadata": {
        "id": "44nGHBAGju8j",
        "colab_type": "code",
        "outputId": "5b1024e4-a9d4-41f7-933f-8fef08fffce9",
        "colab": {
          "base_uri": "https://localhost:8080/",
          "height": 419
        }
      },
      "source": [
        "task1_train"
      ],
      "execution_count": 0,
      "outputs": [
        {
          "output_type": "execute_result",
          "data": {
            "text/html": [
              "<div>\n",
              "<style scoped>\n",
              "    .dataframe tbody tr th:only-of-type {\n",
              "        vertical-align: middle;\n",
              "    }\n",
              "\n",
              "    .dataframe tbody tr th {\n",
              "        vertical-align: top;\n",
              "    }\n",
              "\n",
              "    .dataframe thead th {\n",
              "        text-align: right;\n",
              "    }\n",
              "</style>\n",
              "<table border=\"1\" class=\"dataframe\">\n",
              "  <thead>\n",
              "    <tr style=\"text-align: right;\">\n",
              "      <th></th>\n",
              "      <th>id</th>\n",
              "      <th>original</th>\n",
              "      <th>edit</th>\n",
              "      <th>grades</th>\n",
              "      <th>meanGrade</th>\n",
              "    </tr>\n",
              "  </thead>\n",
              "  <tbody>\n",
              "    <tr>\n",
              "      <th>0</th>\n",
              "      <td>14530</td>\n",
              "      <td>France is ‘ hunting down its citizens who join...</td>\n",
              "      <td>twins</td>\n",
              "      <td>10000</td>\n",
              "      <td>0.2</td>\n",
              "    </tr>\n",
              "    <tr>\n",
              "      <th>1</th>\n",
              "      <td>13034</td>\n",
              "      <td>Pentagon claims 2,000 % increase in Russian tr...</td>\n",
              "      <td>bowling</td>\n",
              "      <td>33110</td>\n",
              "      <td>1.6</td>\n",
              "    </tr>\n",
              "    <tr>\n",
              "      <th>2</th>\n",
              "      <td>8731</td>\n",
              "      <td>Iceland PM Calls Snap Vote as Pedophile Furor ...</td>\n",
              "      <td>party</td>\n",
              "      <td>22100</td>\n",
              "      <td>1.0</td>\n",
              "    </tr>\n",
              "    <tr>\n",
              "      <th>3</th>\n",
              "      <td>76</td>\n",
              "      <td>In an apparent first , Iran and Israel &lt;engage...</td>\n",
              "      <td>slap</td>\n",
              "      <td>20000</td>\n",
              "      <td>0.4</td>\n",
              "    </tr>\n",
              "    <tr>\n",
              "      <th>4</th>\n",
              "      <td>6164</td>\n",
              "      <td>Trump was told weeks ago that Flynn misled &lt;Vi...</td>\n",
              "      <td>school</td>\n",
              "      <td>0</td>\n",
              "      <td>0.0</td>\n",
              "    </tr>\n",
              "    <tr>\n",
              "      <th>...</th>\n",
              "      <td>...</td>\n",
              "      <td>...</td>\n",
              "      <td>...</td>\n",
              "      <td>...</td>\n",
              "      <td>...</td>\n",
              "    </tr>\n",
              "    <tr>\n",
              "      <th>9647</th>\n",
              "      <td>10899</td>\n",
              "      <td>State officials blast ' unprecedented ' DHS &lt;m...</td>\n",
              "      <td>idea</td>\n",
              "      <td>0</td>\n",
              "      <td>0.0</td>\n",
              "    </tr>\n",
              "    <tr>\n",
              "      <th>9648</th>\n",
              "      <td>1781</td>\n",
              "      <td>Protesters Rally for &lt;Refugees/&gt; Detained at J...</td>\n",
              "      <td>stewardesses</td>\n",
              "      <td>20000</td>\n",
              "      <td>0.4</td>\n",
              "    </tr>\n",
              "    <tr>\n",
              "      <th>9649</th>\n",
              "      <td>5628</td>\n",
              "      <td>Cruise line Carnival Corp. joins the fight aga...</td>\n",
              "      <td>raisin</td>\n",
              "      <td>21000</td>\n",
              "      <td>0.6</td>\n",
              "    </tr>\n",
              "    <tr>\n",
              "      <th>9650</th>\n",
              "      <td>14483</td>\n",
              "      <td>Columbia police hunt woman seen with &lt;gun/&gt; ne...</td>\n",
              "      <td>cake</td>\n",
              "      <td>32200</td>\n",
              "      <td>1.4</td>\n",
              "    </tr>\n",
              "    <tr>\n",
              "      <th>9651</th>\n",
              "      <td>5255</td>\n",
              "      <td>Here 's What 's In The House-Approved Health &lt;...</td>\n",
              "      <td>food</td>\n",
              "      <td>11000</td>\n",
              "      <td>0.4</td>\n",
              "    </tr>\n",
              "  </tbody>\n",
              "</table>\n",
              "<p>9652 rows × 5 columns</p>\n",
              "</div>"
            ],
            "text/plain": [
              "         id  ... meanGrade\n",
              "0     14530  ...       0.2\n",
              "1     13034  ...       1.6\n",
              "2      8731  ...       1.0\n",
              "3        76  ...       0.4\n",
              "4      6164  ...       0.0\n",
              "...     ...  ...       ...\n",
              "9647  10899  ...       0.0\n",
              "9648   1781  ...       0.4\n",
              "9649   5628  ...       0.6\n",
              "9650  14483  ...       1.4\n",
              "9651   5255  ...       0.4\n",
              "\n",
              "[9652 rows x 5 columns]"
            ]
          },
          "metadata": {
            "tags": []
          },
          "execution_count": 9
        }
      ]
    },
    {
      "cell_type": "code",
      "metadata": {
        "id": "1cB92VXwjh37",
        "colab_type": "code",
        "colab": {}
      },
      "source": [
        "task2_train = pd.read_csv('train (1).csv')\n",
        "task2_dev = pd.read_csv('dev (1).csv')"
      ],
      "execution_count": 0,
      "outputs": []
    },
    {
      "cell_type": "code",
      "metadata": {
        "id": "uL6myGMejw7C",
        "colab_type": "code",
        "outputId": "3b9be667-a933-4489-ca83-71f624ac6683",
        "colab": {
          "base_uri": "https://localhost:8080/",
          "height": 589
        }
      },
      "source": [
        "task2_train"
      ],
      "execution_count": 0,
      "outputs": [
        {
          "output_type": "execute_result",
          "data": {
            "text/html": [
              "<div>\n",
              "<style scoped>\n",
              "    .dataframe tbody tr th:only-of-type {\n",
              "        vertical-align: middle;\n",
              "    }\n",
              "\n",
              "    .dataframe tbody tr th {\n",
              "        vertical-align: top;\n",
              "    }\n",
              "\n",
              "    .dataframe thead th {\n",
              "        text-align: right;\n",
              "    }\n",
              "</style>\n",
              "<table border=\"1\" class=\"dataframe\">\n",
              "  <thead>\n",
              "    <tr style=\"text-align: right;\">\n",
              "      <th></th>\n",
              "      <th>id</th>\n",
              "      <th>original1</th>\n",
              "      <th>edit1</th>\n",
              "      <th>grades1</th>\n",
              "      <th>meanGrade1</th>\n",
              "      <th>original2</th>\n",
              "      <th>edit2</th>\n",
              "      <th>grades2</th>\n",
              "      <th>meanGrade2</th>\n",
              "      <th>label</th>\n",
              "    </tr>\n",
              "  </thead>\n",
              "  <tbody>\n",
              "    <tr>\n",
              "      <th>0</th>\n",
              "      <td>10920-9866</td>\n",
              "      <td>\" Gene Cernan , Last &lt;Astronaut/&gt; on the Moon ...</td>\n",
              "      <td>Dancer</td>\n",
              "      <td>1113</td>\n",
              "      <td>1.2</td>\n",
              "      <td>\" Gene Cernan , Last Astronaut on the Moon , &lt;...</td>\n",
              "      <td>impregnated</td>\n",
              "      <td>30001</td>\n",
              "      <td>0.8</td>\n",
              "      <td>1</td>\n",
              "    </tr>\n",
              "    <tr>\n",
              "      <th>1</th>\n",
              "      <td>3176-10722</td>\n",
              "      <td>\" I 'm done \" : Fed up with California , some ...</td>\n",
              "      <td>vagrants</td>\n",
              "      <td>1200</td>\n",
              "      <td>0.6</td>\n",
              "      <td>\" I 'm done \" : Fed up with &lt;California/&gt; , so...</td>\n",
              "      <td>pancakes</td>\n",
              "      <td>10110</td>\n",
              "      <td>0.6</td>\n",
              "      <td>0</td>\n",
              "    </tr>\n",
              "    <tr>\n",
              "      <th>2</th>\n",
              "      <td>3176-3702</td>\n",
              "      <td>\" I 'm done \" : Fed up with California , some ...</td>\n",
              "      <td>vagrants</td>\n",
              "      <td>1200</td>\n",
              "      <td>0.6</td>\n",
              "      <td>\" I 'm done \" : Fed up with &lt;California/&gt; , so...</td>\n",
              "      <td>life</td>\n",
              "      <td>2</td>\n",
              "      <td>0.4</td>\n",
              "      <td>1</td>\n",
              "    </tr>\n",
              "    <tr>\n",
              "      <th>3</th>\n",
              "      <td>10722-3702</td>\n",
              "      <td>\" I 'm done \" : Fed up with &lt;California/&gt; , so...</td>\n",
              "      <td>pancakes</td>\n",
              "      <td>10110</td>\n",
              "      <td>0.6</td>\n",
              "      <td>\" I 'm done \" : Fed up with &lt;California/&gt; , so...</td>\n",
              "      <td>life</td>\n",
              "      <td>2</td>\n",
              "      <td>0.4</td>\n",
              "      <td>1</td>\n",
              "    </tr>\n",
              "    <tr>\n",
              "      <th>4</th>\n",
              "      <td>12282-2083</td>\n",
              "      <td>\" Our expectations of what civic engagement lo...</td>\n",
              "      <td>imagine</td>\n",
              "      <td>0</td>\n",
              "      <td>0.0</td>\n",
              "      <td>\" Our expectations of what civic engagement &lt;l...</td>\n",
              "      <td>smells</td>\n",
              "      <td>100220010</td>\n",
              "      <td>0.6</td>\n",
              "      <td>2</td>\n",
              "    </tr>\n",
              "    <tr>\n",
              "      <th>...</th>\n",
              "      <td>...</td>\n",
              "      <td>...</td>\n",
              "      <td>...</td>\n",
              "      <td>...</td>\n",
              "      <td>...</td>\n",
              "      <td>...</td>\n",
              "      <td>...</td>\n",
              "      <td>...</td>\n",
              "      <td>...</td>\n",
              "      <td>...</td>\n",
              "    </tr>\n",
              "    <tr>\n",
              "      <th>9376</th>\n",
              "      <td>975-13357</td>\n",
              "      <td>“ It ’s painfully obvious \" Mueller will charg...</td>\n",
              "      <td>battery</td>\n",
              "      <td>1</td>\n",
              "      <td>0.2</td>\n",
              "      <td>“ It ’s painfully obvious \" Mueller will charg...</td>\n",
              "      <td>plumbing</td>\n",
              "      <td>11103</td>\n",
              "      <td>1.2</td>\n",
              "      <td>2</td>\n",
              "    </tr>\n",
              "    <tr>\n",
              "      <th>9377</th>\n",
              "      <td>975-11773</td>\n",
              "      <td>“ It ’s painfully obvious \" Mueller will charg...</td>\n",
              "      <td>battery</td>\n",
              "      <td>1</td>\n",
              "      <td>0.2</td>\n",
              "      <td>“ It ’s painfully obvious \" Mueller will &lt;char...</td>\n",
              "      <td>strangle</td>\n",
              "      <td>22331</td>\n",
              "      <td>2.2</td>\n",
              "      <td>2</td>\n",
              "    </tr>\n",
              "    <tr>\n",
              "      <th>9378</th>\n",
              "      <td>13357-11773</td>\n",
              "      <td>“ It ’s painfully obvious \" Mueller will charg...</td>\n",
              "      <td>plumbing</td>\n",
              "      <td>11103</td>\n",
              "      <td>1.2</td>\n",
              "      <td>“ It ’s painfully obvious \" Mueller will &lt;char...</td>\n",
              "      <td>strangle</td>\n",
              "      <td>22331</td>\n",
              "      <td>2.2</td>\n",
              "      <td>2</td>\n",
              "    </tr>\n",
              "    <tr>\n",
              "      <th>9379</th>\n",
              "      <td>14954-14479</td>\n",
              "      <td>“ Kompromat , ” media ethics and the law : Wha...</td>\n",
              "      <td>porn</td>\n",
              "      <td>20101</td>\n",
              "      <td>0.8</td>\n",
              "      <td>“ Kompromat , ” media ethics and the law : Wha...</td>\n",
              "      <td>dance</td>\n",
              "      <td>32112</td>\n",
              "      <td>1.8</td>\n",
              "      <td>2</td>\n",
              "    </tr>\n",
              "    <tr>\n",
              "      <th>9380</th>\n",
              "      <td>6354-12970</td>\n",
              "      <td>“ Son of a bitch ” : Trump ’s NFL &lt;outburst/&gt; ...</td>\n",
              "      <td>tantrum</td>\n",
              "      <td>3111130000</td>\n",
              "      <td>1.0</td>\n",
              "      <td>“ Son of a &lt;bitch/&gt; ” : Trump ’s NFL outburst ...</td>\n",
              "      <td>father</td>\n",
              "      <td>10000</td>\n",
              "      <td>0.2</td>\n",
              "      <td>1</td>\n",
              "    </tr>\n",
              "  </tbody>\n",
              "</table>\n",
              "<p>9381 rows × 10 columns</p>\n",
              "</div>"
            ],
            "text/plain": [
              "               id  ... label\n",
              "0      10920-9866  ...     1\n",
              "1      3176-10722  ...     0\n",
              "2       3176-3702  ...     1\n",
              "3      10722-3702  ...     1\n",
              "4      12282-2083  ...     2\n",
              "...           ...  ...   ...\n",
              "9376    975-13357  ...     2\n",
              "9377    975-11773  ...     2\n",
              "9378  13357-11773  ...     2\n",
              "9379  14954-14479  ...     2\n",
              "9380   6354-12970  ...     1\n",
              "\n",
              "[9381 rows x 10 columns]"
            ]
          },
          "metadata": {
            "tags": []
          },
          "execution_count": 10
        }
      ]
    },
    {
      "cell_type": "markdown",
      "metadata": {
        "id": "B4YBRuIDjBZV",
        "colab_type": "text"
      },
      "source": [
        "Средняя оценка замен в 1 подзадаче:"
      ]
    },
    {
      "cell_type": "code",
      "metadata": {
        "id": "PaZ1_4Zgi1i7",
        "colab_type": "code",
        "outputId": "d1d07f51-9287-4ce5-80e6-5a68fddfc8fb",
        "colab": {
          "base_uri": "https://localhost:8080/",
          "height": 34
        }
      },
      "source": [
        "task1_train['meanGrade'].mean()"
      ],
      "execution_count": 0,
      "outputs": [
        {
          "output_type": "execute_result",
          "data": {
            "text/plain": [
              "0.9355712114932938"
            ]
          },
          "metadata": {
            "tags": []
          },
          "execution_count": 5
        }
      ]
    },
    {
      "cell_type": "markdown",
      "metadata": {
        "id": "2K-ioahjjG-T",
        "colab_type": "text"
      },
      "source": [
        "Так как замены оцениваются субъективно, не представляется возможным оценить корректность и ошибки в данных."
      ]
    },
    {
      "cell_type": "code",
      "metadata": {
        "id": "GaQAm8fPi20S",
        "colab_type": "code",
        "outputId": "5fdd59e6-1653-4c9d-d933-c960980a4e46",
        "colab": {
          "base_uri": "https://localhost:8080/",
          "height": 70
        }
      },
      "source": [
        "print(len(task2_train[task2_train['label'] == 1]))\n",
        "print(len(task2_train[task2_train['label'] == 2]))\n",
        "print(len(task2_train[task2_train['label'] == 0]))"
      ],
      "execution_count": 0,
      "outputs": [
        {
          "output_type": "stream",
          "text": [
            "4198\n",
            "4184\n",
            "999\n"
          ],
          "name": "stdout"
        }
      ]
    },
    {
      "cell_type": "markdown",
      "metadata": {
        "id": "MLXgTBPCkGqk",
        "colab_type": "text"
      },
      "source": [
        "Во второй подзадаче классы 1 и 2 примерно имеют примерно одинаковое количество элементов."
      ]
    },
    {
      "cell_type": "markdown",
      "metadata": {
        "id": "IMaIT6CPmto6",
        "colab_type": "text"
      },
      "source": [
        "###Обзор литературы"
      ]
    },
    {
      "cell_type": "markdown",
      "metadata": {
        "id": "gYcoWK_yeAPa",
        "colab_type": "text"
      },
      "source": [
        "#####1.SARCASM AND HUMOR DETECTION USING MACHINE LEARNING\""
      ]
    },
    {
      "cell_type": "markdown",
      "metadata": {
        "id": "Qh6OPaTrm4W5",
        "colab_type": "text"
      },
      "source": [
        "В статье \"SARCASM AND HUMOR DETECTION USING MACHINE LEARNING\" оценивается чувство юмора в предложениях со структурой (NN,V,JJ,NN). Использовались  StanfordCoreNLP и методы word2vec, LSA, ESA и GLOVE."
      ]
    },
    {
      "cell_type": "markdown",
      "metadata": {
        "id": "m3Kp_N8toU-v",
        "colab_type": "text"
      },
      "source": [
        "![Архитектура модели](https://drive.google.com/uc?export=view&id=1Ambwea83WeWS8uidCCUDtM3GaTYF4Pql)"
      ]
    },
    {
      "cell_type": "markdown",
      "metadata": {
        "id": "vTdnlsvOqJaj",
        "colab_type": "text"
      },
      "source": [
        "Для классификации юмора использовался наивный байесовский классификатор. После обучения на униграммах получали точность 76.6%, на биграммах и триграммах - 35%."
      ]
    },
    {
      "cell_type": "markdown",
      "metadata": {
        "id": "sic4PTlKeHC5",
        "colab_type": "text"
      },
      "source": [
        "##### 2. Automatic Narrative Humor Recognition Method Using Machine Learning and Semantic Similarity Based Punchline Detection"
      ]
    },
    {
      "cell_type": "markdown",
      "metadata": {
        "id": "3jHI7MUgyVqL",
        "colab_type": "text"
      },
      "source": [
        "В работе \"Automatic Narrative Humor Recognition Method Using Machine Learning and\n",
        "Semantic Similarity Based Punchline Detection\" оцениваются тексты (короткие истории) на предмет юмора. Выборка состоит из 987 текстов, найденных по запросу \"funny stories\" (смешные тексты) и 1211 твитов, найденых по хэштегу #twnovel (несмешные тексты). Далее полученные тексты оценивались 11 людьми, и если больше половины соглашались с каким-либо вердиктом, это становилось меткой текста. В работе использовались SVM и наивный байесовский классификатор. Если их вердикты различались, то вводился дополнительный модуль Punchline Detection - если первая половина текста сильно отличалась от второй, то считалось, что в тексте есть панчлайн, и в тексте есть юмор. \n",
        " "
      ]
    },
    {
      "cell_type": "markdown",
      "metadata": {
        "id": "7CpFd3MJeJXN",
        "colab_type": "text"
      },
      "source": [
        " ![модель](https://drive.google.com/uc?export=view&id=138r8ttK1cZ7n5AfLpuR2u8nFJqDjpbLU)"
      ]
    },
    {
      "cell_type": "markdown",
      "metadata": {
        "id": "G1e3yHPyjabU",
        "colab_type": "text"
      },
      "source": [
        "#### Базовая архитектура модели"
      ]
    },
    {
      "cell_type": "markdown",
      "metadata": {
        "id": "6PKiuhFqj8kR",
        "colab_type": "text"
      },
      "source": [
        "Аналогично рассмотренным моделям, предлагается использовать наивный байесовский классификатор. Для первой подзадачи сначала просто раздавать метки 3 и 0 (в дальнейшем эту часть необходимо модифицировать для выдачи потенциальной средней оценки экспертов).\n",
        "\n",
        "Для второй подзадачи также используется наивный байесовский классификатор, выдающий метки 0, 1 или 2."
      ]
    },
    {
      "cell_type": "markdown",
      "metadata": {
        "id": "F2JPbwxOFrUH",
        "colab_type": "text"
      },
      "source": [
        "##### Baseline"
      ]
    },
    {
      "cell_type": "markdown",
      "metadata": {
        "id": "L8VWQTbVGK00",
        "colab_type": "text"
      },
      "source": [
        "Baseline в первой подзадаче: всегда предсказывает среднее всех оценок обучающей выборки Score = 0.5783998503\n",
        "\n",
        "Baseline второй подзадачи: предсказывает самую популярную категорию второй выборки Score = 0.5140543116\t"
      ]
    },
    {
      "cell_type": "markdown",
      "metadata": {
        "id": "PsMpSYPVlVwW",
        "colab_type": "text"
      },
      "source": [
        "# LSTM"
      ]
    },
    {
      "cell_type": "markdown",
      "metadata": {
        "id": "QUTD-e4UWYJi",
        "colab_type": "text"
      },
      "source": [
        "В этой части используется двухсторонняя LSTM с 32 слоями и одним слоем Dropout. Все заголовки были конвертированны в векторы с помощью GloVe. Оценивался уже обработанный заголовок (то есть заголовок, в котором вместо старого слова поставленно новое).\n",
        "LSTM лучше подходит для анализа текста, так как данная модель создана для обработки последовательных данных (в т.ч. текстов)"
      ]
    },
    {
      "cell_type": "code",
      "metadata": {
        "id": "UYSwVcrQi5ot",
        "colab_type": "code",
        "colab": {}
      },
      "source": [
        "def bins(score):\n",
        "    if (score <= 0.15):\n",
        "        return 0\n",
        "    elif (score <= 0.3):\n",
        "        return 1\n",
        "    elif (score <= 0.45):\n",
        "        return 2\n",
        "    elif (score <= 0.6):\n",
        "        return 3\n",
        "    elif (score <= 0.75):\n",
        "        return 4\n",
        "    elif (score <= 0.9):\n",
        "        return 5\n",
        "    elif (score <= 1.05):\n",
        "        return 6\n",
        "    elif (score <= 1.2):\n",
        "        return 7\n",
        "    elif (score <= 1.35):\n",
        "        return 8\n",
        "    elif (score <= 1.5):\n",
        "        return 9\n",
        "    elif (score <= 1.65):\n",
        "        return 10\n",
        "    elif (score <= 1.8):\n",
        "        return 11\n",
        "    elif (score <= 1.95):\n",
        "        return 12\n",
        "    elif (score <= 2.1):\n",
        "        return 13\n",
        "    elif (score <= 2.25):\n",
        "        return 14\n",
        "    elif (score <= 2.4):\n",
        "        return 15\n",
        "    elif (score <= 2.55):\n",
        "        return 16\n",
        "    elif (score <= 2.7):\n",
        "        return 17\n",
        "    elif (score <= 2.85):\n",
        "        return 18\n",
        "    else:\n",
        "        return 19\n",
        "\n",
        "max_features = 20000\n",
        "# cut texts after this number of words\n",
        "# (among top max_features most common words)\n",
        "maxlen = 100\n",
        "batch_size = 32\n",
        "\n"
      ],
      "execution_count": 0,
      "outputs": []
    },
    {
      "cell_type": "code",
      "metadata": {
        "id": "Rc7uFHA-giNX",
        "colab_type": "code",
        "colab": {}
      },
      "source": [
        "def debins(binned):\n",
        "    if (binned == 0):\n",
        "        return 0\n",
        "    elif(binned==1):\n",
        "        return 0.225\n",
        "    elif(binned==2):\n",
        "        return 0.375\n",
        "    elif(binned==3):\n",
        "        return 0.525\n",
        "    elif(binned==4):\n",
        "        return 0.675\n",
        "    elif(binned==5):\n",
        "        return 0.825\n",
        "    elif(binned==6):\n",
        "        return 0.975\n",
        "    elif(binned==7):\n",
        "        return 1.125\n",
        "    elif(binned==8):\n",
        "        return 1.275\n",
        "    elif(binned==9):\n",
        "        return 1.425\n",
        "    elif(binned==10):\n",
        "        return 1.575\n",
        "    elif(binned==11):\n",
        "        return 1.725\n",
        "    elif(binned==12):\n",
        "        return 1.875\n",
        "    elif(binned==13):\n",
        "        return 2.025\n",
        "    elif(binned==14):\n",
        "        return 2.175\n",
        "    elif(binned==15):\n",
        "        return 2.325\n",
        "    elif(binned==16):\n",
        "        return 2.475\n",
        "    elif(binned==17):\n",
        "        return 2.625\n",
        "    elif(binned==18):\n",
        "        return 2.775\n",
        "    elif(binned==19):\n",
        "        return 3\n",
        "    "
      ],
      "execution_count": 0,
      "outputs": []
    },
    {
      "cell_type": "code",
      "metadata": {
        "id": "slQzLTGfjGIx",
        "colab_type": "code",
        "colab": {}
      },
      "source": [
        "edited_lines = []\n",
        "for i, rows in task1_train.iterrows():\n",
        "    line = rows['original'].split()\n",
        "    edited_line = []\n",
        "    for word in line:\n",
        "        if '<' in word:\n",
        "            edited_line.append(rows['edit'])\n",
        "        else:\n",
        "            edited_line.append(word)\n",
        "    edited_lines.append(edited_line)"
      ],
      "execution_count": 0,
      "outputs": []
    },
    {
      "cell_type": "code",
      "metadata": {
        "id": "r-LByNLVPQ2h",
        "colab_type": "code",
        "colab": {}
      },
      "source": [
        "dev_lines = []\n",
        "for i, rows in task1_dev.iterrows():\n",
        "    line = rows['original'].split()\n",
        "    edited_line = []\n",
        "    for word in line:\n",
        "        if '<' in word:\n",
        "            edited_line.append(rows['edit'])\n",
        "        else:\n",
        "            edited_line.append(word)\n",
        "    dev_lines.append(edited_line)"
      ],
      "execution_count": 0,
      "outputs": []
    },
    {
      "cell_type": "code",
      "metadata": {
        "id": "SefuFFSyjHKm",
        "colab_type": "code",
        "outputId": "94c1ab2f-9d7e-493a-fc3c-df1320f60d51",
        "colab": {
          "base_uri": "https://localhost:8080/",
          "height": 306
        }
      },
      "source": [
        "edited_lines[1]"
      ],
      "execution_count": 111,
      "outputs": [
        {
          "output_type": "execute_result",
          "data": {
            "text/plain": [
              "['Pentagon',\n",
              " 'claims',\n",
              " '2,000',\n",
              " '%',\n",
              " 'increase',\n",
              " 'in',\n",
              " 'Russian',\n",
              " 'trolls',\n",
              " 'after',\n",
              " 'bowling',\n",
              " 'strikes',\n",
              " '.',\n",
              " 'What',\n",
              " 'does',\n",
              " 'that',\n",
              " 'mean',\n",
              " '?']"
            ]
          },
          "metadata": {
            "tags": []
          },
          "execution_count": 111
        }
      ]
    },
    {
      "cell_type": "code",
      "metadata": {
        "id": "53eluQZLjkZs",
        "colab_type": "code",
        "colab": {}
      },
      "source": [
        "lemmatized_corpus = []\n",
        "for sentence in edited_lines:\n",
        "    new_sentence = []\n",
        "    for word in sentence:\n",
        "        new_sentence.append(lemmatizer.lemmatize(word))\n",
        "    lemmatized_corpus.append(new_sentence)"
      ],
      "execution_count": 0,
      "outputs": []
    },
    {
      "cell_type": "code",
      "metadata": {
        "id": "zX7HDb3SPX2e",
        "colab_type": "code",
        "colab": {}
      },
      "source": [
        "lemmatized_dev = []\n",
        "for sentence in dev_lines:\n",
        "    new_sentence = []\n",
        "    for word in sentence:\n",
        "        new_sentence.append(lemmatizer.lemmatize(word))\n",
        "    lemmatized_dev.append(new_sentence)"
      ],
      "execution_count": 0,
      "outputs": []
    },
    {
      "cell_type": "code",
      "metadata": {
        "id": "45mBopDrkHCc",
        "colab_type": "code",
        "colab": {}
      },
      "source": [
        "for sentence in lemmatized_corpus:\n",
        "    for i in range(len(sentence)):\n",
        "        sentence[i] = sentence[i].lower()\n",
        "        sentence[i] = re.sub(\"[^a-zA-Z]+\", \"\",  sentence[i])\n"
      ],
      "execution_count": 0,
      "outputs": []
    },
    {
      "cell_type": "code",
      "metadata": {
        "id": "JKYDq3WtPeoI",
        "colab_type": "code",
        "colab": {}
      },
      "source": [
        "for sentence in lemmatized_dev:\n",
        "    for i in range(len(sentence)):\n",
        "        sentence[i] = sentence[i].lower()\n",
        "        sentence[i] = re.sub(\"[^a-zA-Z]+\", \"\",  sentence[i])\n"
      ],
      "execution_count": 0,
      "outputs": []
    },
    {
      "cell_type": "code",
      "metadata": {
        "id": "FnAegjODkPHA",
        "colab_type": "code",
        "colab": {}
      },
      "source": [
        "binned_score = []\n",
        "for i, rows in task1_train.iterrows():\n",
        "    binned_score.append(bins(rows['meanGrade']))"
      ],
      "execution_count": 0,
      "outputs": []
    },
    {
      "cell_type": "code",
      "metadata": {
        "id": "iny5nExmr7T-",
        "colab_type": "code",
        "outputId": "8ab06ef8-ee11-4da3-bdf9-e5546604f269",
        "colab": {
          "base_uri": "https://localhost:8080/",
          "height": 34
        }
      },
      "source": [
        "binned_score[:5]"
      ],
      "execution_count": 117,
      "outputs": [
        {
          "output_type": "execute_result",
          "data": {
            "text/plain": [
              "[1, 10, 6, 2, 0]"
            ]
          },
          "metadata": {
            "tags": []
          },
          "execution_count": 117
        }
      ]
    },
    {
      "cell_type": "code",
      "metadata": {
        "id": "w0O2CbbxkRPQ",
        "colab_type": "code",
        "outputId": "db930f34-fd3b-40a4-d951-808500e49919",
        "colab": {
          "base_uri": "https://localhost:8080/",
          "height": 34
        }
      },
      "source": [
        "len(lemmatized_corpus)"
      ],
      "execution_count": 118,
      "outputs": [
        {
          "output_type": "execute_result",
          "data": {
            "text/plain": [
              "9652"
            ]
          },
          "metadata": {
            "tags": []
          },
          "execution_count": 118
        }
      ]
    },
    {
      "cell_type": "code",
      "metadata": {
        "id": "BehvJo8glLKq",
        "colab_type": "code",
        "colab": {}
      },
      "source": [
        "from glove import Corpus, Glove"
      ],
      "execution_count": 0,
      "outputs": []
    },
    {
      "cell_type": "code",
      "metadata": {
        "id": "aBvJLkxxk0sH",
        "colab_type": "code",
        "outputId": "6068b452-68d6-494c-a7fa-7f015e64eba9",
        "colab": {
          "base_uri": "https://localhost:8080/",
          "height": 544
        }
      },
      "source": [
        "corpus = Corpus() \n",
        "\n",
        "#Training the corpus to generate the co occurence matrix which is used in GloVe\n",
        "corpus.fit(lemmatized_corpus, window=10)\n",
        "\n",
        "glove = Glove(no_components=5, learning_rate=0.05) \n",
        "glove.fit(corpus.matrix, epochs=30, no_threads=4, verbose=True)\n",
        "glove.add_dictionary(corpus.dictionary)\n",
        "glove.save('glove.model')\n"
      ],
      "execution_count": 120,
      "outputs": [
        {
          "output_type": "stream",
          "text": [
            "Performing 30 training epochs with 4 threads\n",
            "Epoch 0\n",
            "Epoch 1\n",
            "Epoch 2\n",
            "Epoch 3\n",
            "Epoch 4\n",
            "Epoch 5\n",
            "Epoch 6\n",
            "Epoch 7\n",
            "Epoch 8\n",
            "Epoch 9\n",
            "Epoch 10\n",
            "Epoch 11\n",
            "Epoch 12\n",
            "Epoch 13\n",
            "Epoch 14\n",
            "Epoch 15\n",
            "Epoch 16\n",
            "Epoch 17\n",
            "Epoch 18\n",
            "Epoch 19\n",
            "Epoch 20\n",
            "Epoch 21\n",
            "Epoch 22\n",
            "Epoch 23\n",
            "Epoch 24\n",
            "Epoch 25\n",
            "Epoch 26\n",
            "Epoch 27\n",
            "Epoch 28\n",
            "Epoch 29\n"
          ],
          "name": "stdout"
        }
      ]
    },
    {
      "cell_type": "code",
      "metadata": {
        "id": "R3l_Q_q2lQIz",
        "colab_type": "code",
        "colab": {}
      },
      "source": [
        "files.download('glove.model')"
      ],
      "execution_count": 0,
      "outputs": []
    },
    {
      "cell_type": "code",
      "metadata": {
        "id": "kQfl3ubUn82h",
        "colab_type": "code",
        "colab": {}
      },
      "source": [
        "import inspect\n",
        "inspect.getmembers(glove)"
      ],
      "execution_count": 0,
      "outputs": []
    },
    {
      "cell_type": "code",
      "metadata": {
        "id": "uu16S49kvpYN",
        "colab_type": "code",
        "colab": {}
      },
      "source": [
        "f = open('glovey.txt', 'w')\n",
        "for i in inspect.getmembers(glove):\n",
        "    f.write(str(i))\n",
        "    f.write('\\n')\n",
        "#f.write(str(inspect.getmembers(glove)))\n",
        "f.close\n",
        "files.download('glovey.txt')"
      ],
      "execution_count": 0,
      "outputs": []
    },
    {
      "cell_type": "code",
      "metadata": {
        "id": "S4VnULf_tHbw",
        "colab_type": "code",
        "colab": {}
      },
      "source": [
        "import glove as gl"
      ],
      "execution_count": 0,
      "outputs": []
    },
    {
      "cell_type": "code",
      "metadata": {
        "id": "OfrMSCk_s52G",
        "colab_type": "code",
        "outputId": "2a0a8da3-638e-4500-9274-4adc83a917d3",
        "colab": {
          "base_uri": "https://localhost:8080/",
          "height": 34
        }
      },
      "source": [
        "glove.word_vectors[0]"
      ],
      "execution_count": 125,
      "outputs": [
        {
          "output_type": "execute_result",
          "data": {
            "text/plain": [
              "array([-0.3374837 , -0.07727461, -0.15514989,  0.17236857,  0.24468199])"
            ]
          },
          "metadata": {
            "tags": []
          },
          "execution_count": 125
        }
      ]
    },
    {
      "cell_type": "code",
      "metadata": {
        "id": "UN89xueLx86S",
        "colab_type": "code",
        "outputId": "7f2f58dd-18ac-442a-a1ec-c034a63f76c8",
        "colab": {
          "base_uri": "https://localhost:8080/",
          "height": 34
        }
      },
      "source": [
        "glove.word_vectors[glove.dictionary['man']]"
      ],
      "execution_count": 126,
      "outputs": [
        {
          "output_type": "execute_result",
          "data": {
            "text/plain": [
              "array([-0.19124603, -0.11154896, -0.23371708,  0.17132904,  0.24269754])"
            ]
          },
          "metadata": {
            "tags": []
          },
          "execution_count": 126
        }
      ]
    },
    {
      "cell_type": "code",
      "metadata": {
        "id": "LqR-VRgPsmdU",
        "colab_type": "code",
        "colab": {}
      },
      "source": [
        "tru_matrix = []\n",
        "for i in range(len(lemmatized_corpus)):\n",
        "    sentence_matrix = []\n",
        "    for word in lemmatized_corpus[i]:\n",
        "        sentence_matrix.append(glove.word_vectors[glove.dictionary[word]])\n",
        "    tru_matrix.append(sentence_matrix)"
      ],
      "execution_count": 0,
      "outputs": []
    },
    {
      "cell_type": "code",
      "metadata": {
        "id": "1dyk1jtaPFYH",
        "colab_type": "code",
        "colab": {}
      },
      "source": [
        "dev_matrix = []\n",
        "for i in range(len(lemmatized_dev)):\n",
        "    sentence_matrix = []\n",
        "    for word in lemmatized_dev[i]:\n",
        "        try:\n",
        "            sentence_matrix.append(glove.word_vectors[glove.dictionary[word]])\n",
        "        except:\n",
        "            sentence_matrix.append(Xpad)\n",
        "    dev_matrix.append(sentence_matrix)"
      ],
      "execution_count": 0,
      "outputs": []
    },
    {
      "cell_type": "code",
      "metadata": {
        "id": "IaWMPdfBy6HN",
        "colab_type": "code",
        "colab": {}
      },
      "source": [
        "from sklearn.model_selection import train_test_split"
      ],
      "execution_count": 0,
      "outputs": []
    },
    {
      "cell_type": "code",
      "metadata": {
        "id": "6PVddLpRyjF2",
        "colab_type": "code",
        "colab": {}
      },
      "source": [
        "X_train, X_test, y_train, y_test = train_test_split(tru_matrix, binned_score, test_size=0.2, random_state=42)"
      ],
      "execution_count": 0,
      "outputs": []
    },
    {
      "cell_type": "code",
      "metadata": {
        "id": "eTIPJ8vWo2ey",
        "colab_type": "code",
        "outputId": "57f28a68-60f2-4769-a1fa-04ea56cbb4d6",
        "colab": {
          "base_uri": "https://localhost:8080/",
          "height": 340
        }
      },
      "source": [
        "X_train[0]"
      ],
      "execution_count": 131,
      "outputs": [
        {
          "output_type": "execute_result",
          "data": {
            "text/plain": [
              "[array([-0.3265755 , -0.35068634, -0.24532761,  0.12896453, -0.36516801]),\n",
              " array([-0.55671406, -0.60688291, -0.34049844,  0.46407153,  0.01641401]),\n",
              " array([-1.23345774, -1.20842644, -0.3100262 ,  0.96252704,  0.62057601]),\n",
              " array([-0.12617974, -0.07316746, -0.03391419,  0.05279105,  0.02319443]),\n",
              " array([-0.47082537, -0.25951529, -0.18568189,  0.31949243,  0.24521519]),\n",
              " array([-0.91476332, -0.79555142, -0.33606053,  0.81129011,  0.66139212]),\n",
              " array([-0.9240497 , -0.98286301, -0.2923284 ,  0.73529676,  0.81576535]),\n",
              " array([0.00378085, 0.01886009, 0.038614  , 0.04513735, 0.12923635]),\n",
              " array([-0.09243699, -0.18686961, -0.08175656,  0.08549737,  0.21033011]),\n",
              " array([-1.17358357, -1.03533567, -1.83905585,  0.99582145,  1.62208364]),\n",
              " array([-0.03782027, -0.06240072, -0.35813526,  0.1207342 ,  0.20202424]),\n",
              " array([-0.01794078, -0.08144791, -0.02334543,  0.08904117,  0.01926065]),\n",
              " array([-0.62960605, -1.15860405, -0.75250542,  1.0605674 ,  0.97966534]),\n",
              " array([-1.17358357, -1.03533567, -1.83905585,  0.99582145,  1.62208364]),\n",
              " array([ 0.06956758, -0.1070903 , -0.01609355,  0.06122176, -0.00858455]),\n",
              " array([-0.65384824, -0.8308507 , -0.57561078,  0.7768455 ,  0.39518825]),\n",
              " array([-0.33580721, -0.34424865, -0.50682006,  0.34993353,  0.5321114 ]),\n",
              " array([-1.17358357, -1.03533567, -1.83905585,  0.99582145,  1.62208364]),\n",
              " array([-1.17358357, -1.03533567, -1.83905585,  0.99582145,  1.62208364])]"
            ]
          },
          "metadata": {
            "tags": []
          },
          "execution_count": 131
        }
      ]
    },
    {
      "cell_type": "code",
      "metadata": {
        "id": "FZfnyL10qONv",
        "colab_type": "code",
        "colab": {}
      },
      "source": [
        "max_features = 20000\n",
        "# cut texts after this number of words\n",
        "# (among top max_features most common words)\n",
        "maxlen = 100\n",
        "batch_size = 32\n",
        "N=1000"
      ],
      "execution_count": 0,
      "outputs": []
    },
    {
      "cell_type": "code",
      "metadata": {
        "id": "V-3a0nvHlr9d",
        "colab_type": "code",
        "colab": {}
      },
      "source": [
        "max_seq_len2 = max(map(len, X_test))"
      ],
      "execution_count": 0,
      "outputs": []
    },
    {
      "cell_type": "code",
      "metadata": {
        "id": "W5kwcN8jmSCG",
        "colab_type": "code",
        "outputId": "3d6c690b-ad4b-48ad-d88c-89c0b75adc2a",
        "colab": {
          "base_uri": "https://localhost:8080/",
          "height": 34
        }
      },
      "source": [
        "max_seq_len2"
      ],
      "execution_count": 134,
      "outputs": [
        {
          "output_type": "execute_result",
          "data": {
            "text/plain": [
              "26"
            ]
          },
          "metadata": {
            "tags": []
          },
          "execution_count": 134
        }
      ]
    },
    {
      "cell_type": "code",
      "metadata": {
        "id": "mwXfa2qUzjLU",
        "colab_type": "code",
        "colab": {}
      },
      "source": [
        "special_value = -10.0\n",
        "max_seq_len = max(map(len,X_train)) \n",
        "Xpad = [-10] * 5"
      ],
      "execution_count": 0,
      "outputs": []
    },
    {
      "cell_type": "code",
      "metadata": {
        "id": "kPYoY9XqmVDb",
        "colab_type": "code",
        "colab": {}
      },
      "source": [
        "for i in range(0, len(X_train)):\n",
        "    if (len(X_train[i]) < 26):\n",
        "        for j in range(len(X_train[i]), 26):\n",
        "            #print(X_train[i])\n",
        "            X_train[i].append(Xpad)"
      ],
      "execution_count": 0,
      "outputs": []
    },
    {
      "cell_type": "code",
      "metadata": {
        "id": "qfy3he7bLbRE",
        "colab_type": "code",
        "colab": {}
      },
      "source": [
        "for i in range(0, len(X_test)):\n",
        "    if (len(X_test[i]) < 26):\n",
        "        for j in range(len(X_test[i]), 26):\n",
        "            X_test[i].append(Xpad)"
      ],
      "execution_count": 0,
      "outputs": []
    },
    {
      "cell_type": "code",
      "metadata": {
        "id": "W1Ovo89pR9zo",
        "colab_type": "code",
        "colab": {}
      },
      "source": [
        "for i in range(0, len(dev_matrix)):\n",
        "    if (len(dev_matrix[i]) < 26):\n",
        "        for j in range(len(dev_matrix[i]), 26):\n",
        "            dev_matrix[i].append(Xpad)"
      ],
      "execution_count": 0,
      "outputs": []
    },
    {
      "cell_type": "code",
      "metadata": {
        "id": "NlLF3qi_r9E1",
        "colab_type": "code",
        "colab": {}
      },
      "source": [
        "np_train = np.array(X_train)"
      ],
      "execution_count": 0,
      "outputs": []
    },
    {
      "cell_type": "code",
      "metadata": {
        "id": "OTZZe-rzLnek",
        "colab_type": "code",
        "colab": {}
      },
      "source": [
        "np_test = np.array(X_test)"
      ],
      "execution_count": 0,
      "outputs": []
    },
    {
      "cell_type": "code",
      "metadata": {
        "id": "8R47We9ySHx9",
        "colab_type": "code",
        "colab": {}
      },
      "source": [
        "np_dev = np.array(dev_matrix)"
      ],
      "execution_count": 0,
      "outputs": []
    },
    {
      "cell_type": "code",
      "metadata": {
        "id": "nv_Vc3u-tC7_",
        "colab_type": "code",
        "outputId": "1eb3a322-30a3-418a-f0f1-544916a34ae2",
        "colab": {
          "base_uri": "https://localhost:8080/",
          "height": 34
        }
      },
      "source": [
        "np_train[0].shape"
      ],
      "execution_count": 142,
      "outputs": [
        {
          "output_type": "execute_result",
          "data": {
            "text/plain": [
              "(26, 5)"
            ]
          },
          "metadata": {
            "tags": []
          },
          "execution_count": 142
        }
      ]
    },
    {
      "cell_type": "code",
      "metadata": {
        "id": "YcSA-LDgqOMR",
        "colab_type": "code",
        "colab": {}
      },
      "source": [
        "model = Sequential()\n",
        "#model.add(Embedding(max_features, 128, input_length=maxlen))\n",
        "model.add(Masking(mask_value=special_value, input_shape=(26, 5)))\n",
        "model.add(Bidirectional(LSTM(32)))\n",
        "model.add(Dropout(0.5))\n",
        "model.add(Dense(1, activation='relu'))\n",
        "model.compile(optimizer=\"adam\", loss=\"binary_crossentropy\", metrics=[\"acc\"])\n"
      ],
      "execution_count": 0,
      "outputs": []
    },
    {
      "cell_type": "code",
      "metadata": {
        "id": "xreDKBCOqOIp",
        "colab_type": "code",
        "outputId": "e2052750-3388-48d2-def0-c664343d8d0d",
        "colab": {
          "base_uri": "https://localhost:8080/",
          "height": 289
        }
      },
      "source": [
        "model.summary()"
      ],
      "execution_count": 144,
      "outputs": [
        {
          "output_type": "stream",
          "text": [
            "Model: \"sequential_5\"\n",
            "_________________________________________________________________\n",
            "Layer (type)                 Output Shape              Param #   \n",
            "=================================================================\n",
            "masking_5 (Masking)          (None, 26, 5)             0         \n",
            "_________________________________________________________________\n",
            "bidirectional_5 (Bidirection (None, 64)                9728      \n",
            "_________________________________________________________________\n",
            "dropout_5 (Dropout)          (None, 64)                0         \n",
            "_________________________________________________________________\n",
            "dense_5 (Dense)              (None, 1)                 65        \n",
            "=================================================================\n",
            "Total params: 9,793\n",
            "Trainable params: 9,793\n",
            "Non-trainable params: 0\n",
            "_________________________________________________________________\n"
          ],
          "name": "stdout"
        }
      ]
    },
    {
      "cell_type": "code",
      "metadata": {
        "id": "uTFu0p1oqOE_",
        "colab_type": "code",
        "outputId": "3508b404-f772-4eac-8c9d-03119c83ebc3",
        "colab": {
          "base_uri": "https://localhost:8080/",
          "height": 901
        }
      },
      "source": [
        "model.fit(np_train, y_train,\n",
        "          batch_size=batch_size,\n",
        "          epochs=25,\n",
        "          validation_data=[np_test, y_test])"
      ],
      "execution_count": 145,
      "outputs": [
        {
          "output_type": "stream",
          "text": [
            "Train on 7721 samples, validate on 1931 samples\n",
            "Epoch 1/25\n",
            "7721/7721 [==============================] - 29s 4ms/step - loss: -63.5570 - acc: 0.0881 - val_loss: -73.8623 - val_acc: 0.0922\n",
            "Epoch 2/25\n",
            "7721/7721 [==============================] - 27s 3ms/step - loss: -73.2851 - acc: 0.0993 - val_loss: -74.1820 - val_acc: 0.0922\n",
            "Epoch 3/25\n",
            "7721/7721 [==============================] - 27s 3ms/step - loss: -73.4806 - acc: 0.0859 - val_loss: -74.3681 - val_acc: 0.0528\n",
            "Epoch 4/25\n",
            "7721/7721 [==============================] - 27s 3ms/step - loss: -73.5527 - acc: 0.0745 - val_loss: -74.3736 - val_acc: 0.0445\n",
            "Epoch 5/25\n",
            "7721/7721 [==============================] - 27s 4ms/step - loss: -73.5545 - acc: 0.0760 - val_loss: -74.3883 - val_acc: 0.0352\n",
            "Epoch 6/25\n",
            "7721/7721 [==============================] - 27s 3ms/step - loss: -73.5714 - acc: 0.0787 - val_loss: -74.3889 - val_acc: 0.0378\n",
            "Epoch 7/25\n",
            "7721/7721 [==============================] - 27s 4ms/step - loss: -73.5688 - acc: 0.0730 - val_loss: -74.3898 - val_acc: 0.0430\n",
            "Epoch 8/25\n",
            "7721/7721 [==============================] - 27s 3ms/step - loss: -73.5833 - acc: 0.0715 - val_loss: -74.3911 - val_acc: 0.0476\n",
            "Epoch 9/25\n",
            "7721/7721 [==============================] - 27s 3ms/step - loss: -73.5714 - acc: 0.0688 - val_loss: -74.4033 - val_acc: 0.0772\n",
            "Epoch 10/25\n",
            "7721/7721 [==============================] - 27s 3ms/step - loss: -73.5837 - acc: 0.0534 - val_loss: -74.4033 - val_acc: 0.0559\n",
            "Epoch 11/25\n",
            "7721/7721 [==============================] - 27s 3ms/step - loss: -73.5960 - acc: 0.0477 - val_loss: -74.4033 - val_acc: 0.0559\n",
            "Epoch 12/25\n",
            "7721/7721 [==============================] - 27s 3ms/step - loss: -73.5960 - acc: 0.0531 - val_loss: -74.4033 - val_acc: 0.0559\n",
            "Epoch 13/25\n",
            "7721/7721 [==============================] - 27s 3ms/step - loss: -73.5960 - acc: 0.0468 - val_loss: -74.4033 - val_acc: 0.0559\n",
            "Epoch 14/25\n",
            "7721/7721 [==============================] - 27s 3ms/step - loss: -73.5960 - acc: 0.0543 - val_loss: -74.4033 - val_acc: 0.0559\n",
            "Epoch 15/25\n",
            "7721/7721 [==============================] - 27s 3ms/step - loss: -73.5960 - acc: 0.0458 - val_loss: -74.4033 - val_acc: 0.0559\n",
            "Epoch 16/25\n",
            "7721/7721 [==============================] - 27s 3ms/step - loss: -73.5960 - acc: 0.0483 - val_loss: -74.4033 - val_acc: 0.0559\n",
            "Epoch 17/25\n",
            "7721/7721 [==============================] - 27s 3ms/step - loss: -73.5960 - acc: 0.0527 - val_loss: -74.4033 - val_acc: 0.0559\n",
            "Epoch 18/25\n",
            "7721/7721 [==============================] - 27s 3ms/step - loss: -73.5960 - acc: 0.0534 - val_loss: -74.4033 - val_acc: 0.0559\n",
            "Epoch 19/25\n",
            "7721/7721 [==============================] - 27s 3ms/step - loss: -73.5960 - acc: 0.0505 - val_loss: -74.4033 - val_acc: 0.0559\n",
            "Epoch 20/25\n",
            "7721/7721 [==============================] - 27s 3ms/step - loss: -73.5960 - acc: 0.0503 - val_loss: -74.4033 - val_acc: 0.0559\n",
            "Epoch 21/25\n",
            "7721/7721 [==============================] - 27s 3ms/step - loss: -73.5960 - acc: 0.0544 - val_loss: -74.4033 - val_acc: 0.0559\n",
            "Epoch 22/25\n",
            "7721/7721 [==============================] - 27s 3ms/step - loss: -73.5960 - acc: 0.0453 - val_loss: -74.4033 - val_acc: 0.0559\n",
            "Epoch 23/25\n",
            "7721/7721 [==============================] - 27s 3ms/step - loss: -73.5960 - acc: 0.0488 - val_loss: -74.4033 - val_acc: 0.0559\n",
            "Epoch 24/25\n",
            "7721/7721 [==============================] - 27s 3ms/step - loss: -73.5960 - acc: 0.0484 - val_loss: -74.4033 - val_acc: 0.0559\n",
            "Epoch 25/25\n",
            "7721/7721 [==============================] - 27s 3ms/step - loss: -73.5960 - acc: 0.0528 - val_loss: -74.4033 - val_acc: 0.0559\n"
          ],
          "name": "stdout"
        },
        {
          "output_type": "execute_result",
          "data": {
            "text/plain": [
              "<keras.callbacks.History at 0x7f28c53f89b0>"
            ]
          },
          "metadata": {
            "tags": []
          },
          "execution_count": 145
        }
      ]
    },
    {
      "cell_type": "code",
      "metadata": {
        "id": "QZ5h1O9fQhqj",
        "colab_type": "code",
        "colab": {}
      },
      "source": [
        "model.save('lstm.h5')"
      ],
      "execution_count": 0,
      "outputs": []
    },
    {
      "cell_type": "code",
      "metadata": {
        "id": "zUJLIZ5fQl3C",
        "colab_type": "code",
        "colab": {}
      },
      "source": [
        "files.download('lstm.h5')"
      ],
      "execution_count": 0,
      "outputs": []
    },
    {
      "cell_type": "code",
      "metadata": {
        "id": "iUcXFHmVzBCK",
        "colab_type": "code",
        "outputId": "7b9632d6-eee9-44a2-b4cc-05754168766e",
        "colab": {
          "base_uri": "https://localhost:8080/",
          "height": 34
        }
      },
      "source": [
        "score = model.evaluate(np_test, y_test, batch_size=128)\n"
      ],
      "execution_count": 149,
      "outputs": [
        {
          "output_type": "stream",
          "text": [
            "1931/1931 [==============================] - 1s 296us/step\n"
          ],
          "name": "stdout"
        }
      ]
    },
    {
      "cell_type": "code",
      "metadata": {
        "id": "bLRVI27NQply",
        "colab_type": "code",
        "outputId": "9cb5ba4f-52b8-4993-daa6-6b39eb2c8cca",
        "colab": {
          "base_uri": "https://localhost:8080/",
          "height": 34
        }
      },
      "source": [
        "score"
      ],
      "execution_count": 150,
      "outputs": [
        {
          "output_type": "execute_result",
          "data": {
            "text/plain": [
              "[-74.40330469812031, 0.05592957018632953]"
            ]
          },
          "metadata": {
            "tags": []
          },
          "execution_count": 150
        }
      ]
    },
    {
      "cell_type": "code",
      "metadata": {
        "id": "Gyu2ZswAQsRQ",
        "colab_type": "code",
        "colab": {}
      },
      "source": [
        "pred = model.predict(np_dev)"
      ],
      "execution_count": 0,
      "outputs": []
    },
    {
      "cell_type": "code",
      "metadata": {
        "id": "Fxquz4-SSMR_",
        "colab_type": "code",
        "outputId": "9c7136a3-b2a7-413e-d8b7-b1bef0b32dea",
        "colab": {
          "base_uri": "https://localhost:8080/",
          "height": 136
        }
      },
      "source": [
        "pred"
      ],
      "execution_count": 152,
      "outputs": [
        {
          "output_type": "execute_result",
          "data": {
            "text/plain": [
              "array([[10.024673 ],\n",
              "       [ 7.4790225],\n",
              "       [10.371142 ],\n",
              "       ...,\n",
              "       [10.6318245],\n",
              "       [10.717829 ],\n",
              "       [ 9.546591 ]], dtype=float32)"
            ]
          },
          "metadata": {
            "tags": []
          },
          "execution_count": 152
        }
      ]
    },
    {
      "cell_type": "code",
      "metadata": {
        "id": "S_7T6TuNX9Pm",
        "colab_type": "code",
        "outputId": "10c05224-88e0-4542-dbad-5058531eb2f1",
        "colab": {
          "base_uri": "https://localhost:8080/",
          "height": 34
        }
      },
      "source": [
        "pred.mean()"
      ],
      "execution_count": 153,
      "outputs": [
        {
          "output_type": "execute_result",
          "data": {
            "text/plain": [
              "9.991202"
            ]
          },
          "metadata": {
            "tags": []
          },
          "execution_count": 153
        }
      ]
    },
    {
      "cell_type": "code",
      "metadata": {
        "id": "iGvxdXJ7SNle",
        "colab_type": "code",
        "colab": {}
      },
      "source": [
        "output_table = pd.DataFrame()\n",
        "output_table['id'] = task1_dev['id']\n",
        "labels = []\n",
        "for i in range(len(task1_dev)):\n",
        "    labels.append(debins(20 - round(pred[i][0])))"
      ],
      "execution_count": 0,
      "outputs": []
    },
    {
      "cell_type": "code",
      "metadata": {
        "id": "c4BWTq_DXLO7",
        "colab_type": "code",
        "colab": {}
      },
      "source": [
        "output_table['pred'] = labels"
      ],
      "execution_count": 0,
      "outputs": []
    },
    {
      "cell_type": "code",
      "metadata": {
        "id": "kBNtOwEQirqI",
        "colab_type": "code",
        "colab": {
          "base_uri": "https://localhost:8080/",
          "height": 419
        },
        "outputId": "3024dde9-72cb-4f33-9d62-4dd33f230bcd"
      },
      "source": [
        "output_table"
      ],
      "execution_count": 166,
      "outputs": [
        {
          "output_type": "execute_result",
          "data": {
            "text/html": [
              "<div>\n",
              "<style scoped>\n",
              "    .dataframe tbody tr th:only-of-type {\n",
              "        vertical-align: middle;\n",
              "    }\n",
              "\n",
              "    .dataframe tbody tr th {\n",
              "        vertical-align: top;\n",
              "    }\n",
              "\n",
              "    .dataframe thead th {\n",
              "        text-align: right;\n",
              "    }\n",
              "</style>\n",
              "<table border=\"1\" class=\"dataframe\">\n",
              "  <thead>\n",
              "    <tr style=\"text-align: right;\">\n",
              "      <th></th>\n",
              "      <th>id</th>\n",
              "      <th>pred</th>\n",
              "    </tr>\n",
              "  </thead>\n",
              "  <tbody>\n",
              "    <tr>\n",
              "      <th>0</th>\n",
              "      <td>1723</td>\n",
              "      <td>1.575</td>\n",
              "    </tr>\n",
              "    <tr>\n",
              "      <th>1</th>\n",
              "      <td>12736</td>\n",
              "      <td>2.025</td>\n",
              "    </tr>\n",
              "    <tr>\n",
              "      <th>2</th>\n",
              "      <td>12274</td>\n",
              "      <td>1.575</td>\n",
              "    </tr>\n",
              "    <tr>\n",
              "      <th>3</th>\n",
              "      <td>8823</td>\n",
              "      <td>1.425</td>\n",
              "    </tr>\n",
              "    <tr>\n",
              "      <th>4</th>\n",
              "      <td>5087</td>\n",
              "      <td>1.425</td>\n",
              "    </tr>\n",
              "    <tr>\n",
              "      <th>...</th>\n",
              "      <td>...</td>\n",
              "      <td>...</td>\n",
              "    </tr>\n",
              "    <tr>\n",
              "      <th>2414</th>\n",
              "      <td>1202</td>\n",
              "      <td>1.575</td>\n",
              "    </tr>\n",
              "    <tr>\n",
              "      <th>2415</th>\n",
              "      <td>14764</td>\n",
              "      <td>1.425</td>\n",
              "    </tr>\n",
              "    <tr>\n",
              "      <th>2416</th>\n",
              "      <td>12595</td>\n",
              "      <td>1.425</td>\n",
              "    </tr>\n",
              "    <tr>\n",
              "      <th>2417</th>\n",
              "      <td>70</td>\n",
              "      <td>1.425</td>\n",
              "    </tr>\n",
              "    <tr>\n",
              "      <th>2418</th>\n",
              "      <td>14315</td>\n",
              "      <td>1.575</td>\n",
              "    </tr>\n",
              "  </tbody>\n",
              "</table>\n",
              "<p>2419 rows × 2 columns</p>\n",
              "</div>"
            ],
            "text/plain": [
              "         id   pred\n",
              "0      1723  1.575\n",
              "1     12736  2.025\n",
              "2     12274  1.575\n",
              "3      8823  1.425\n",
              "4      5087  1.425\n",
              "...     ...    ...\n",
              "2414   1202  1.575\n",
              "2415  14764  1.425\n",
              "2416  12595  1.425\n",
              "2417     70  1.425\n",
              "2418  14315  1.575\n",
              "\n",
              "[2419 rows x 2 columns]"
            ]
          },
          "metadata": {
            "tags": []
          },
          "execution_count": 166
        }
      ]
    },
    {
      "cell_type": "code",
      "metadata": {
        "id": "kQpduXyeYKep",
        "colab_type": "code",
        "colab": {}
      },
      "source": [
        "output_table.to_csv('task-1-output.csv')\n",
        "files.download('task-1-output.csv')"
      ],
      "execution_count": 0,
      "outputs": []
    },
    {
      "cell_type": "markdown",
      "metadata": {
        "id": "MY8YRkJuj6uP",
        "colab_type": "text"
      },
      "source": [
        "скриншот посылок в Codalab\n",
        "https://imgur.com/YSTZqrO"
      ]
    },
    {
      "cell_type": "markdown",
      "metadata": {
        "id": "U9n98kbhkwga",
        "colab_type": "text"
      },
      "source": [
        "скриншот лидерборда https://imgur.com/5CN1Fr0"
      ]
    },
    {
      "cell_type": "markdown",
      "metadata": {
        "id": "m0At3hVUk_yi",
        "colab_type": "text"
      },
      "source": [
        "#### Итоги"
      ]
    },
    {
      "cell_type": "markdown",
      "metadata": {
        "id": "96tATJO7k_u5",
        "colab_type": "text"
      },
      "source": [
        "В результате работы разработана модель обработки текста и оценки юмора микрозамен коротких предложений (до 26 слов). В дальнейшем модель можно улучшить, чтобы добиться лучших результатов."
      ]
    }
  ]
}